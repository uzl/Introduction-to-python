{
 "cells": [
  {
   "cell_type": "markdown",
   "metadata": {},
   "source": [
    "# File Operations \n",
    "\n",
    "<p style=\"text-align:right;\"> Course Name: Introduction To Python <br/>  <i>by Uzzal Podder</i>  </p>"
   ]
  },
  {
   "cell_type": "markdown",
   "metadata": {},
   "source": [
    "<hr>\n",
    "সাধারণত আমরা ইনপুট নেয়ার সময়  `input()`  ফাংশন ব্যবহার করি। \n",
    "কিন্তু ডিস্কে থাকা যে কোণ ফাইলে থেকে আমরা ইনপুট  নিতে পারি।  একটু  ভেবে দেখলে আমাদের নজরে হয়ত আসবে যে \n",
    "কম্পিউটার বন্ধ করার পর শুধু মাত্র হার্ড ডিস্কেই সেভ করা ফাইল গুলো থাকে। র‍্যামে জমা হয়া কিছুই থাকে না।\n",
    "সুতরাং একটা কম্পিউটার যখন ওপেন হয়, তখন তাকে হার্ড ডিস্কের অজস্র ফাইল \n",
    "রিড করতে হয়। \n",
    "অথবা আরো  সহজ একটা  উদাহরণ হল, আমরা যখন VLC বা Windows Media Player এ কোণ MP3 গান প্লে করি, তখন মুলত যে কাজ হয় সেটাকে বলে file read operation. \n",
    "আবার যখন আমরা ক্যামেরায় কোন ছবি তুলি, বা রেকর্ড করি, সেটা  ডিস্কে save হয়, তখন মুলত file write operation হয়।\n",
    "<hr>\n",
    "\n",
    "এই অধ্যায়ে আমারা সিখব কি করে file read  করতে হয়, এবং file write হয়.\n",
    "\n",
    "\n",
    " যদিও আমারা এখনে খুব সহজ একটা ফাইল Text ফরমেট নিয়ে কাজ করব, কিন্তু এই পদ্ধতি ছবি, ভিডিও অডিও বা যে কোন ফাইলের জন্য প্রয়োগ করতে পারবে। \n",
    "\n",
    "যেহেতু ইমেজ ফাইলে ডাটা এক ভাবে থাকে, আর অডীওফাইলে ডাটা অন্য ভাবে থাকে,\n",
    " তাই এ জন্য তোমাকে ফাইল ফরমেট জানতে হবে। \n"
   ]
  },
  {
   "cell_type": "markdown",
   "metadata": {},
   "source": [
    "### 3 Stage of File Operation"
   ]
  },
  {
   "cell_type": "markdown",
   "metadata": {},
   "source": [
    "<img src='img/file_operation_1.png' >"
   ]
  },
  {
   "cell_type": "markdown",
   "metadata": {
    "collapsed": true
   },
   "source": [
    "ফাইল নিয়ে কাজ করার সময়আমাদের ৩ টা বিষয়ে নজর দেয়া লাগে-  \n",
    "\n",
    "<ol>\n",
    "<li> কেমন করে file open করতে হয় </li>\n",
    "\n",
    "<li> open অবস্তায় read/write করতে হয় </li>\n",
    "\n",
    "<li> তারপর কিভাবে close করতে হয়। </li>\n",
    "\n",
    "</ol>\n",
    "\n",
    "এ সম্পর্কে বিস্তারিত বলার আগে একটা উদারহরন দেয়া যাক। তুমি কোন একটা গান মিডিয়া প্লেয়ারে চালাও। গানটা চলা(play) অবস্তায় সেটাকে ডিলেট করার চেষ্টা কর। \n",
    "\n",
    "কি হয় ? কেন ?\n",
    "\n",
    "তবে এটা নিয়ে পরে কথা বলা যাবে। আপাতত ফাইল ওপেন, রিড, রাইট, এবং ক্লজ এর কোড কেমন সেটার দিকে নজ্র বোলানো যাক \n",
    "\n"
   ]
  },
  {
   "cell_type": "markdown",
   "metadata": {},
   "source": [
    "We can take input from file. Specially for data processing, we need some data source file. \n",
    "Common used File type are: txt, CSV, HTML, JSON"
   ]
  },
  {
   "cell_type": "markdown",
   "metadata": {},
   "source": [
    "## Creating a Text File\n",
    "\n",
    "\n",
    "তবে প্রথমেই আমাদের একটা ফাইল লাগবে যেটা আমারা আমারা উদাহরন হিসাবে \n",
    "ব্যাবহার করব। \n",
    "ফাইল অনেক রকমের হয়।  কি তথ্য রাখা হবে সে  অনুযায়ী ফাইলের \n",
    "ধরনও আলাদা হয়। সাধারণত আমারা ফাইলের ধরনকে  File Type বলি।\n",
    "যেমন ছবি রাখার জন্য সব থেকে পরিচিত কিছু file type হলে .jpeg, .jpg, png\n",
    "অথবা ভিডিও এর জন্য .mp4, .avi, .mkv ।\n",
    "লেকালেখির কাজের জন্য .docx, .txt\n",
    "\n",
    "<img src='img/file_list.png' > \n",
    "\n",
    "\n",
    "তবে আমারা এখানে text file বা .txt ফরমেট নিয়ে কাজ করব। \n",
    "এর প্রধান কারন হল এর গঠন খুবই সহজ। কিন্তু .jpg বা .mp4  ফাইল এ তথ্য গুলো\n",
    "অনেক সুনিদ্রিস্ট গাণিতিক পদ্ধিতি অনুযায়ী থাকে, যার ফলে শুধু সেই নিদ্রিস্ট ভাবে \n",
    "ছাড়া ওই ফাইল পড়া  যায় না। খেয়াল করে দেখ তোমার গান শোনা মিডিউয়া প্লেয়ার \n",
    "কিন্তু লেখা লেখির .doc ফাইল ওপেন করতে পারে না। কারন, মিডিয়া প্লেয়ার \n",
    "শুদু মিডিয়া ফাইল গুলোর ফরমেট গুলো জানে। \n",
    "\n",
    "যাইহোক,  আমারা আরেকটা কারনে text ফাইল নিব, সেটা হচ্ছে \n",
    "text ফাইল গুলোতে তথ্য খুব সরল ভাবে থাকে, যাকে বলা হিয় plain text. \n",
    "কিন্তু ইমেজ ভা ভিডিও ফাইল গুলোতে binary ফাইল বলে। \n",
    "\n",
    "plain text আর  binary ফাইলের পার্থক্য আমারা পরে জানব। আপাতত \n",
    "একটা টেক্সট ফাইল নিয়ে এগোনো যাক। \n",
    "   <img src='img/file_content.png'>\n",
    "\n",
    "\n",
    " <b>days.txt</b>\n",
    "\n",
    "```\n",
    "Monday\n",
    "Tuesday\n",
    "Wednesday\n",
    "Thursday\n",
    "Friday\n",
    "Saturday\n",
    "Sunday\n",
    "```"
   ]
  },
  {
   "cell_type": "markdown",
   "metadata": {},
   "source": [
    "## Opening File\n",
    "\n",
    "\n",
    "আমাদের প্রথম কাজ file open. \n",
    "এ কাজের জন্য আমারা open() নামক  একটা বিল্টইন ফাশন ব্যাবহার করব। \n",
    "\n"
   ]
  },
  {
   "cell_type": "code",
   "execution_count": 5,
   "metadata": {
    "collapsed": true
   },
   "outputs": [],
   "source": [
    "days_file = open('days.txt','r')\n",
    "# days_file = open('data/days.txt','r')\n",
    "# days_file = open('D:/class/data/days.txt','r')\n",
    "# days_file = open('D:\\\\class\\\\data\\\\days.txt','r')\n"
   ]
  },
  {
   "cell_type": "markdown",
   "metadata": {},
   "source": [
    "`open('file_path', 'mode')` function এর প্রথম parameter হচ্ছে ফাইলটা কোন ফোল্ডারে আছে সেটার লোকেশন এবং ফাইলের নাম বলে দেয়া। \n",
    " \n",
    " যদি root folder এবং ওপেন করতে চাওয়া ফাইল একই root folder এ থাকে তাহলে শুধু  file name বললেই চলবে। \n",
    " \n",
    " যদি root folder যেখানে আছে তার ভেতর সাব ফোল্ডারে রাখা আছে তাহলে `sub_folder_name/file_name.txt` এরকম ভাবে দেয়া যাবে।\n",
    " \n",
    "আর absolute path ও দেয়া যাবে।  যেমন `D:/class/data/days.txt` \n",
    "\n",
    "\n",
    "\n"
   ]
  },
  {
   "cell_type": "code",
   "execution_count": 6,
   "metadata": {},
   "outputs": [
    {
     "name": "stdout",
     "output_type": "stream",
     "text": [
      "Monday\n",
      "Tuesday\n",
      "Wednesday\n",
      "Thursday\n",
      "Friday\n",
      "Saturday\n",
      "Sunday\n"
     ]
    }
   ],
   "source": [
    "s = days_file.read()\n",
    "print (s)"
   ]
  },
  {
   "cell_type": "markdown",
   "metadata": {},
   "source": [
    "`days_file = open('days.txt','r')` এই লাইনে days_file এর মধ্যে ফাইল এর কটেন্ট থাকে না। মুলত একটা ফাইলের অবজেক্ট যার মধ্যে শুধু রেফারেন্স থাকে। \n",
    "\n",
    "ফাইলের কটেন্ট পেতে হলে days_file অব্জেক্টে কিছু মেথড (বা ফাংশন) ব্যাবহার করতে হয়। এরকম একটা হল  `read()` \n",
    "\n",
    "`days_file.read()` ব্যাবহার করলে ফাইলের মধ্যকার সব কিছু একবারে চলে আসে। অর্থাৎ, text file এর সকল কিছু string হিসাবে s এর মধ্যে জমা হয়। "
   ]
  },
  {
   "cell_type": "markdown",
   "metadata": {},
   "source": [
    "## File Mode\n",
    "The `open()` function requires as its first argument the file path. The function also allows for many other parameters. However, most important is the optional mode parameter. Mode is an optional string that specifies the mode in which the file is opened.\n",
    "\n",
    "`open()` ফাংশনের প্রথম argument হল file path।\n",
    "\n",
    "আর ২য় আর্গুমেন্ট হচ্ছে file mode.  মুড বলতে বোঝায় আমারা ফাইলে কি ধরণের কাজ করব। যদি ফাইলে কিছু সেভ করে রাখতে চাই, তাহলে write মুডে ওপেন করতে হবে। write মুডের  ংক্ষিপ্ত রুপ হচ্ছে `'w'`। একই ভাবে ফাইলে কি আছে তা পেতে চাইলে read মুডে ওপেন করতে হবে। read মুডের  ংক্ষিপ্ত রুপ হল  `'r'`\n",
    "\n",
    "text file কে ওপেন করার এরকম কিছু মুড হচ্ছে -- \n",
    "\n",
    "`'r'`: use for reading <br/>\n",
    "`'w'`: use for writing <br/>\n",
    "`'x'`: use for creating and writing to a new file <br/>\n",
    "`'a'`: use for appending to a file <br/>\n",
    "`'r+'`: use for reading and writing to the same file <br/>\n",
    "\n",
    "\n",
    "এখানে  বলা  প্রয়োজন যে আমারা  এখানে text file নিয়ে কাজ করছি বলে text file ওপেন করার মুড গুলো দেখছি। কিন্তু image, video এগুলো  binary ফাইল   হওয়ায়  এদের binary মুডে ওপেন করতে হয়। সেক্ষেত্রে   read মুড হবে `'rb'`,  write মুড হবে `'wb'`"
   ]
  },
  {
   "cell_type": "markdown",
   "metadata": {},
   "source": [
    "## Reading File"
   ]
  },
  {
   "cell_type": "code",
   "execution_count": 13,
   "metadata": {},
   "outputs": [
    {
     "data": {
      "text/plain": [
       "'Monday\\n'"
      ]
     },
     "execution_count": 13,
     "metadata": {},
     "output_type": "execute_result"
    }
   ],
   "source": [
    "days_file.readline()"
   ]
  },
  {
   "cell_type": "markdown",
   "metadata": {},
   "source": [
    "`readline()` ফাংশন এক লাইন করে টেক্সট ফাইল পড়ে।  "
   ]
  },
  {
   "cell_type": "code",
   "execution_count": 14,
   "metadata": {
    "scrolled": true
   },
   "outputs": [
    {
     "data": {
      "text/plain": [
       "['Tuesday\\n', 'Wednesday\\n', 'Thursday\\n', 'Friday\\n', 'Saturday\\n', 'Sunday']"
      ]
     },
     "execution_count": 14,
     "metadata": {},
     "output_type": "execute_result"
    }
   ],
   "source": [
    "days_file.readlines()"
   ]
  },
  {
   "cell_type": "markdown",
   "metadata": {},
   "source": [
    "`readlines()` ফাংশন সব গুলো লাইন একবারে পড়ে, এবং সেটা একটা list এর মধ্যে রাখে। প্রতি লাইন হচ্ছে list এর এক একটা element ।  \n",
    "\n",
    "এখানে উল্লেখ করা দরকার যে, `read()`  ফাংশনও একবারে সব লাইন পড়ে, কিন্তু সে `string`  হিসাবে রাখে, `readlines()` এর মত  লাইন গুলো list হিসাবে রাখে না।  "
   ]
  },
  {
   "cell_type": "markdown",
   "metadata": {},
   "source": [
    "\n",
    "\n",
    "আর একটা জিনিস মাথায় রাখতে হবে, ফাইল রিড করার সময় একবার ফাইল অব্জেক্ট থেকে রিড করলে (এখানে ফাইল অব্জেক্ট `days_file`) ২য় বার রিড করা যায় না। যদি এক লাইন রিড কর, তাহলে পরের বার `readline()` `readlines()` করলে পরের লাইন থেকেই শুরু হবে। আবার তুমি যদি একবার `read()` ব্যবহার কর তাহলে `readlines()` এ কিছুই পাবে না। "
   ]
  },
  {
   "cell_type": "code",
   "execution_count": 18,
   "metadata": {},
   "outputs": [
    {
     "data": {
      "text/plain": [
       "17"
      ]
     },
     "execution_count": 18,
     "metadata": {},
     "output_type": "execute_result"
    }
   ],
   "source": [
    "new_days = 'Days of the Week\\n'\n",
    "days_file = open('new_days','w')\n",
    "days_file.write(new_days)"
   ]
  },
  {
   "cell_type": "markdown",
   "metadata": {},
   "source": [
    "### Close file\n",
    "ফাইল ওপেন করার পর, সেটা থেকে হয় রিড বা রাইট করি আমারা। যে কাজই করি না কেন,আমাদের শেষে গিয়ে ক্লজ করতে হবে। \n",
    "ফাইল ক্লজ না  করা পর্জন্ত অন্য কোণ প্রগ্রামগ ঐ ফাইল ওপেন করতে পারবে না। "
   ]
  },
  {
   "cell_type": "code",
   "execution_count": null,
   "metadata": {
    "collapsed": true
   },
   "outputs": [],
   "source": [
    "days_file.close()\n",
    "new_days.close()"
   ]
  },
  {
   "cell_type": "markdown",
   "metadata": {},
   "source": [
    "\n",
    "\n",
    "ক্লজ করার কথা সব সময় আমাদের খেয়াল নাও থাকতে পারে। তাই  'with' ব্লকের মধ্যে থাকলে কাজ শেষে ফাইল নিজে থেকে ক্লজ হয়ে যায়। "
   ]
  },
  {
   "cell_type": "code",
   "execution_count": null,
   "metadata": {
    "collapsed": true
   },
   "outputs": [],
   "source": [
    "with open('input/text/maslab.txt', 'r') as f:\n",
    "    d = f.readlines()\n",
    "    \n",
    "    for x  in data:\n",
    "        print (x)"
   ]
  },
  {
   "cell_type": "markdown",
   "metadata": {},
   "source": [
    "## File Writing \n",
    "\n",
    "প্রথমে যে নামে file তৈরি করতে চাই সেটা open() ফাংশনের প্রথম প্যারামিটার হিসাবে পাঠাতে হবে। দ্বিতীয়ত, file mode বলে দিতে হবে। যেহেতু আমারা ফাইলে write করতে চাই তাই ‘w; দেব "
   ]
  },
  {
   "cell_type": "code",
   "execution_count": 1,
   "metadata": {
    "collapsed": true
   },
   "outputs": [],
   "source": [
    "f = open('sample.txt', 'w')\n",
    "f.write(\" This is sample text.\")\n",
    "f.close()"
   ]
  },
  {
   "cell_type": "markdown",
   "metadata": {},
   "source": [
    "Sample.txt নামের একটা ফাইল তৈরি হবে যার ভেতরে লেখা থাকবে  This is sample text.\n",
    "<img src = 'img/file_write.PNG'>\n",
    "<img src = 'img/sample_txt.PNG'>"
   ]
  },
  {
   "cell_type": "code",
   "execution_count": null,
   "metadata": {
    "collapsed": true
   },
   "outputs": [],
   "source": [
    "fl2 = open('bangladesh.txt', 'w')\n",
    "fl2.write(\"I love bangladesh\\n\")\n",
    "fl2.write(\"I love bangladesh\\n\")\n",
    "fl2.write(\"I love bangladesh\\n\")\n",
    "fl2.close()"
   ]
  },
  {
   "cell_type": "code",
   "execution_count": null,
   "metadata": {
    "collapsed": true
   },
   "outputs": [],
   "source": [
    "fl2 = open('bangladesh.txt', 'w')\n",
    "for i in range(100):\n",
    "    fl2.write(\"I love bangladesh\\n\")\n",
    "fl2.close()"
   ]
  },
  {
   "cell_type": "markdown",
   "metadata": {},
   "source": [
    "With ব্লকের মধ্যে মধ্যে রাখলে close করা লাগে না "
   ]
  },
  {
   "cell_type": "code",
   "execution_count": null,
   "metadata": {
    "collapsed": true
   },
   "outputs": [],
   "source": [
    "with open('Dhaka.txt', 'w') as fl3:\n",
    "    for i in range(100):\n",
    "        fl3.write(\"I love bangladesh\\n\")"
   ]
  },
  {
   "cell_type": "code",
   "execution_count": null,
   "metadata": {
    "collapsed": true
   },
   "outputs": [],
   "source": []
  }
 ],
 "metadata": {
  "kernelspec": {
   "display_name": "Python 3",
   "language": "python",
   "name": "python3"
  },
  "language_info": {
   "codemirror_mode": {
    "name": "ipython",
    "version": 3
   },
   "file_extension": ".py",
   "mimetype": "text/x-python",
   "name": "python",
   "nbconvert_exporter": "python",
   "pygments_lexer": "ipython3",
   "version": "3.6.2"
  }
 },
 "nbformat": 4,
 "nbformat_minor": 2
}
