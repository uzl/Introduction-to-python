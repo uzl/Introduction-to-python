{
 "cells": [
  {
   "cell_type": "markdown",
   "metadata": {
    "collapsed": true
   },
   "source": [
    "# Python Data Type\n",
    "\n",
    "<p style=\"text-align:right;\"> Course Name: Introduction To Python <br/>  <i>by Uzzal Podder</i>  </p>"
   ]
  },
  {
   "cell_type": "markdown",
   "metadata": {
    "collapsed": true
   },
   "source": [
    "আমরা দৈনন্দিন কথা বলা বা লেখার সময় সংখ্যা (১,২,৩...) বা অক্ষর(a,b,c..) এর মাধ্যমে তথ্য প্রকাশ করি। একটু উদাহরেণ দেয়া যাক -\n",
    "\n",
    "\n",
    "- অনুষ্ঠানে <b>১০০</b> জন মানুষ উপস্থিত ছিল।  \n",
    "\n",
    "- পাই এর মান  <b>3.1416</b>  \n",
    "\n",
    "- রবীন্দ্রনাথ বলেছেন - <i><b> “ যদি তোর ডাক শুনে কেউ না আসে তবে একলা চলো রে ” </b></i>\n",
    "\n",
    "\n",
    "উপরের তিনটা লাইন যদি এবার একটু ভালো করে দেখি, দেখব \n",
    " <b>১০০</b> কে পুর্ন সংখ্যা বা integer বলা হয়। \n",
    "<b>3.1416</b> কে দশমিক সংখ্যা বা floating point number বলা হয়। \n",
    "এবং শেষের কোটেসনের মধ্যে উক্তি একটা বাক্য, (কিন্তু কোন সংখ্যা না )\n",
    "\n",
    "\n",
    "এই আলাদা আলাদা ধরনকেই বলব এক একটা data type। পুর্ন সংখ্যা বা integer  একটা data type।\n",
    " 3.1416  দশমিক সংখ্যা বা floating point number আরেকটা data type.\n",
    "\n",
    "\n",
    "কম্পিউটারকে কাজ করতে হলে তাকে সে সম্পর্কিত তথ্য  মেমরিতে(মোটা দাগে RAM এ) রাখতে হয়। এই তথ্য রাখার সময়, বা তথ্য নিয়ে কাজ করার সময় কম্পিউটার খুব বেশি সচেতন থাকে তথ্যের টাইপ নিয়ে। \n",
    "\n",
    "\n",
    "আমাদের কাছে 3 টাকা এবং 3.0 টাকার মধ্যে কোণ পার্থক্য নেই, কিন্তু কপিউটারের কাছে বড় পার্থক্য আছে। সে 3 কে integer হিসাবে ধরবে, এবং তার সাথে এক রকম আচরণ করবে; অপর দিকে 3.0 কে floating সংখ্যা হিসাবে ধরবে, এবং অন্যরকম আচরণ করবে। \n",
    "\n",
    "\n",
    "\n",
    "মোটামুটি এটা বলা যায় যে ডাটা গুলো কেমন তার উপর আলাদা আলাদা ক্যাটাগরি গুলোকেই data type বলা যায়।\n",
    "\n",
    "\n",
    "এখানে উল্লেখ করা প্রয়োজন, একেক প্রগ্রামিং ল্যাঙ্গুয়েজ data type  কে একেক ভাবে ডিজাইন করে। \n",
    "কিছু বিশেষ ধরণের ডাটা টাইপও থাকতে পারে ল্যাঙ্গুয়েজ ভেদে। তবে আমরা যেহেতু পাইথন নিয়ে আলোচনা করব তাই python এর দাটা টাইপ নিয়ে আলোচনা করা যাক। \n",
    "<hr>\n",
    "মোটা দাগে পাইথনের ডাটা টাইপ গুলোকে প্রধানত ৩ গ্রুপে ভাগ করা যায়। \n",
    "- numeric types \n",
    "- sequences\n",
    "- sets and mappings "
   ]
  },
  {
   "cell_type": "markdown",
   "metadata": {
    "collapsed": true
   },
   "source": [
    "### numeric types\n",
    "পাইথন সংখ্যা কে ভাগ করে প্রধানত ২ ভাগে। \n",
    "- পুর্ন সংখ্যা \n",
    "- দশমিক সংখ্যা। \n",
    "\n",
    "\n",
    "তবে আমারা আসলে সত্যই দেখতে চাই যে পাইথন কি মনে করে। \n",
    "পাইথনের কাছে data type কি সেটা জানতে আমারা সংখ্যা কে type( ) ফাংশনের মধ্যে রেখে প্রিন্ট করব। ( ‘ফাংশন’ সম্পর্কে বিস্তারিত আমারা পরের ফাংসন অধ্যায়ে জানব)\n"
   ]
  },
  {
   "cell_type": "code",
   "execution_count": 16,
   "metadata": {
    "scrolled": true
   },
   "outputs": [
    {
     "name": "stdout",
     "output_type": "stream",
     "text": [
      "<class 'int'>\n",
      "<class 'float'>\n"
     ]
    }
   ],
   "source": [
    "print(type(3))\n",
    "print(type(3.0))\n"
   ]
  },
  {
   "cell_type": "markdown",
   "metadata": {},
   "source": [
    "\n",
    "পাইথন পুর্ন সংখ্যা কে int নামে চেনে। integer এর প্রথম ৩ অক্ষর থেকে int \n",
    "একই ভাবে দশমিক সংখ্যাকে চেনে float নামে। floating point থেকে float।"
   ]
  },
  {
   "cell_type": "markdown",
   "metadata": {},
   "source": [
    "আরেকটা বিশেষ সংখ্যা পাইথনে আছে। complex number যা কাল্পনিক সংখ্যা বা imaginary number নামেও পরিচিত। \n"
   ]
  },
  {
   "cell_type": "code",
   "execution_count": 20,
   "metadata": {},
   "outputs": [
    {
     "name": "stdout",
     "output_type": "stream",
     "text": [
      "<class 'complex'>\n",
      "<class 'complex'>\n"
     ]
    }
   ],
   "source": [
    "print (type( 3j ) )\n",
    "print( type( complex(2,3) ) )"
   ]
  },
  {
   "cell_type": "markdown",
   "metadata": {},
   "source": [
    "\n",
    "যারা গনিত বইয়ে ইতিমধ্যে complex number পেয়েছ তাদের পক্ষে বোঝা সহজ। আমি এখানে complex number সম্পর্কে বিস্তারিত বলব না। তবে যাদের বিশেষ আগ্রহ আছে, তাদের গনিত বই থেকে আগে  imaginary number/complex number এর ধারণা জেনে আসতে পারে। "
   ]
  },
  {
   "cell_type": "markdown",
   "metadata": {},
   "source": [
    "### Sequences:\n",
    "\n",
    "সিকোয়েন্স এর একটা উদাহরন দেয়া যাক। \n",
    "আমারা ইংরেজিতে যা কিছুই লিখি না কেন, সেটা A-Z অক্ষরের দিয়েই লিখতে হবে। \n",
    "পাইথনে অক্ষরে লেখা তথ্যকে বলে string (আরো ছোট করে  str) .\n",
    "  \n",
    "  \n"
   ]
  },
  {
   "cell_type": "code",
   "execution_count": 5,
   "metadata": {},
   "outputs": [
    {
     "name": "stdout",
     "output_type": "stream",
     "text": [
      "My name is Raju\n",
      "<class 'str'>\n"
     ]
    }
   ],
   "source": [
    "print('My name is Raju')\n",
    "print (type('My name is Raju'))"
   ]
  },
  {
   "cell_type": "markdown",
   "metadata": {},
   "source": [
    " কোটেশনের মধ্যের অংশকে বলে string যা মুলত অনেক গুলো অক্ষরের Sequences। \n",
    " string  সম্পর্কে বিস্তারিত একটু পরেরি জানব। তবে আপাতত শুধু এটুকু জানলেই হবে যে কোটেসন চিহ্নের মধ্যে যা থাকবে সেটা পুরোটা মিলে একটা string data type. যদি কোটেসনের মধ্যে সংখ্যাও থাকে তাহলে সেটাও string \n",
    " \n"
   ]
  },
  {
   "cell_type": "code",
   "execution_count": 6,
   "metadata": {},
   "outputs": [
    {
     "name": "stdout",
     "output_type": "stream",
     "text": [
      "<class 'str'>\n",
      "<class 'int'>\n"
     ]
    }
   ],
   "source": [
    "print (type ('123'))\n",
    "print (type(123))"
   ]
  },
  {
   "cell_type": "markdown",
   "metadata": {},
   "source": [
    "Sequences ক্যাটাগরির আরো দুটো গুরুত্বপুর্ন data type হচ্ছে list এবং tuple\n",
    "String এ তো শুধু character থাকতে পারে। কিন্তু list বা tuple প্রায় সব কিছুর data type ক্রমান্বয়ে থাকতে পারে। \n",
    "\n"
   ]
  },
  {
   "cell_type": "code",
   "execution_count": 10,
   "metadata": {},
   "outputs": [
    {
     "name": "stdout",
     "output_type": "stream",
     "text": [
      "['dhaka', 'khulna', 'sylhet']\n",
      "dhaka\n",
      "<class 'list'>\n",
      "<class 'str'>\n"
     ]
    }
   ],
   "source": [
    "# list example\n",
    "divisions = ['dhaka', 'khulna', 'sylhet']\n",
    "print ( divisions)\n",
    "print (divisions[0])\n",
    "\n",
    "print (type(divisions))\n",
    "print (type (divisions[0]))"
   ]
  },
  {
   "cell_type": "markdown",
   "metadata": {},
   "source": [
    "এদের সম্পর্কে বিস্তারিত পরে জানব। "
   ]
  },
  {
   "cell_type": "markdown",
   "metadata": {},
   "source": [
    "### sets and mappings\n",
    "set হচ্ছে অদ্বিতীয় উপাদানের data type. অর্থাৎ, একই উপাদান ১ বারের বেশি থাকে না। \n"
   ]
  },
  {
   "cell_type": "code",
   "execution_count": 14,
   "metadata": {},
   "outputs": [
    {
     "name": "stdout",
     "output_type": "stream",
     "text": [
      "{123, 111}\n",
      "<class 'set'>\n"
     ]
    }
   ],
   "source": [
    "postcode = {111 , 111, 123}\n",
    "print (postcode)\n",
    "\n",
    "print (type(postcode))"
   ]
  },
  {
   "cell_type": "markdown",
   "metadata": {},
   "source": [
    "Map এ একটা নামের সাথে একটা ভ্যালু ও রাখা যায়। একটা খুব খুব কাজের জিনিস। \n",
    "Map এ key এবং value দুইটি অংশ থাকে। অনেকটা ক্লাসে রোল নম্বর হচ্ছে key, আর সেই রোল নম্বরে এক এক জন ছাত্রের নাম পরিচয় থাকে। \n"
   ]
  },
  {
   "cell_type": "code",
   "execution_count": 17,
   "metadata": {},
   "outputs": [
    {
     "name": "stdout",
     "output_type": "stream",
     "text": [
      "Sajib\n",
      "<class 'dict'>\n",
      "<class 'str'>\n"
     ]
    }
   ],
   "source": [
    "students = {1: 'Sajib', 2: 'Barun', 3:'Raju'}\n",
    "print (students[1])\n",
    "\n",
    "print (type(students))\n",
    "print (type(students[1]))"
   ]
  },
  {
   "cell_type": "markdown",
   "metadata": {},
   "source": [
    "পরের অধ্যায় গুলোতে প্রতিটি data type সম্পর্কে আমরা বিস্তারিত জানব "
   ]
  },
  {
   "cell_type": "markdown",
   "metadata": {},
   "source": [
    "<hr>"
   ]
  }
 ],
 "metadata": {
  "kernelspec": {
   "display_name": "Python 3",
   "language": "python",
   "name": "python3"
  },
  "language_info": {
   "codemirror_mode": {
    "name": "ipython",
    "version": 3
   },
   "file_extension": ".py",
   "mimetype": "text/x-python",
   "name": "python",
   "nbconvert_exporter": "python",
   "pygments_lexer": "ipython3",
   "version": "3.6.2"
  }
 },
 "nbformat": 4,
 "nbformat_minor": 2
}
