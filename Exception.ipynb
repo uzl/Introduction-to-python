{
 "cells": [
  {
   "cell_type": "markdown",
   "metadata": {},
   "source": [
    "\n",
    "\n",
    "# Exception\n",
    "\n",
    "\n",
    "<p style=\"text-align:right;\"> Course Name: Introduction To Python <br/>  <i>by Uzzal Podder</i>  </p>\n",
    "\n"
   ]
  },
  {
   "cell_type": "markdown",
   "metadata": {},
   "source": [
    " "
   ]
  },
  {
   "cell_type": "markdown",
   "metadata": {},
   "source": [
    "## Exception কি ?\n",
    "\n",
    "যদি সব কিছু ঠিক থাকেও, কোড রান করার সময় error হতে পারে। \n",
    "\n",
    "যেমন ধর \n"
   ]
  },
  {
   "cell_type": "code",
   "execution_count": 2,
   "metadata": {
    "scrolled": true
   },
   "outputs": [
    {
     "name": "stdout",
     "output_type": "stream",
     "text": [
      "0.5\n"
     ]
    }
   ],
   "source": [
    "c = 1/2\n",
    "print (c)"
   ]
  },
  {
   "cell_type": "markdown",
   "metadata": {},
   "source": [
    "সহজ একটা ভাগ অপারেশন। \n",
    "\n",
    "কিন্তু যদি এমন হয় "
   ]
  },
  {
   "cell_type": "code",
   "execution_count": 7,
   "metadata": {
    "scrolled": true
   },
   "outputs": [
    {
     "ename": "ZeroDivisionError",
     "evalue": "division by zero",
     "output_type": "error",
     "traceback": [
      "\u001b[1;31m---------------------------------------------------------------------------\u001b[0m",
      "\u001b[1;31mZeroDivisionError\u001b[0m                         Traceback (most recent call last)",
      "\u001b[1;32m<ipython-input-7-aa91069c2802>\u001b[0m in \u001b[0;36m<module>\u001b[1;34m()\u001b[0m\n\u001b[1;32m----> 1\u001b[1;33m \u001b[0mc\u001b[0m  \u001b[1;33m=\u001b[0m \u001b[1;36m1\u001b[0m\u001b[1;33m/\u001b[0m\u001b[1;36m0\u001b[0m\u001b[1;33m\u001b[0m\u001b[0m\n\u001b[0m",
      "\u001b[1;31mZeroDivisionError\u001b[0m: division by zero"
     ]
    }
   ],
   "source": [
    "c  = 1/0"
   ]
  },
  {
   "cell_type": "markdown",
   "metadata": {},
   "source": [
    "এখানে শুন্য দিয়ে ভাগ করা হয়েছে যেটা গাণিতিক ভাবে নিষিদ্ধ।\n",
    "এরকম ক্ষেত্রে কম্পিউটার error দিবে (কারন কম্পিউটার গাণিতিক হিসাব মেনেই কাজ করে)।\n",
    "\n",
    "\n",
    "<h4>  ্রোগ্রাম চলার সময়ে অপ্র্যাশিত Errors হলে সেটাকে exceptions বলে। </h4>\n",
    "\n",
    "\n",
    "শুন্য দিয়ে ভাগ করলে যে error হয় সেটা পাইথনের কাছে  ZeroDivisionError নামে পরিচিত, তাই সে  error মেসেজে বলেছে .ZeroDivisionError: division by zero\n",
    "\n",
    "এরকম আরো অনেক ধরণের exception তৈরি হতে পারে। সেগুলো যদি python এর লাইব্রেরীতে আগে থেকে সংজ্ঞাইীত থাকে তাহলে সে বলে দেয় কোন exception টা কোন টাইপের error ।\n",
    "\n",
    "\n",
    "এরকম কিছু পরিচিত exception হচ্ছে NameError, TypeError, FileNotFoundError...\n",
    "\n",
    "<hr>\n",
    "যদি কোন variable আগে থেকে ডিক্লার না করেই সেটা ব্যাবহারের   চষ্টা করা হয় তাহলে NameError হয়। \n",
    "\n",
    "নিচের কোডে pi এর সাথে গুণ করা হয়েছে, কিন্তু pi এর মান কি হবে, সেটাআগে কোথাও বলি নাই। তাই exception তৈরি হয়েছে। \n"
   ]
  },
  {
   "cell_type": "code",
   "execution_count": 22,
   "metadata": {
    "scrolled": true
   },
   "outputs": [
    {
     "ename": "NameError",
     "evalue": "name 'pi' is not defined",
     "output_type": "error",
     "traceback": [
      "\u001b[1;31m---------------------------------------------------------------------------\u001b[0m",
      "\u001b[1;31mNameError\u001b[0m                                 Traceback (most recent call last)",
      "\u001b[1;32m<ipython-input-22-a02bd0c6a876>\u001b[0m in \u001b[0;36m<module>\u001b[1;34m()\u001b[0m\n\u001b[1;32m----> 1\u001b[1;33m \u001b[0ma\u001b[0m \u001b[1;33m=\u001b[0m \u001b[0mpi\u001b[0m \u001b[1;33m*\u001b[0m \u001b[1;36m2\u001b[0m\u001b[1;33m\u001b[0m\u001b[0m\n\u001b[0m",
      "\u001b[1;31mNameError\u001b[0m: name 'pi' is not defined"
     ]
    }
   ],
   "source": [
    "a = pi * 2 "
   ]
  },
  {
   "cell_type": "markdown",
   "metadata": {},
   "source": [
    "<hr>\n",
    "আরেটা  কমন exception হচ্ছে TypeError হয় । দুটি ভিন্ন টাইপের অব্জেক্ট এক করার সময় প্রায়ই এই exception তৈরি হতে পারে। \n",
    "\n",
    "নিচের '2' হচ্ছে string (যেহেতু কোটেসনের মধ্যে আছে) এবং অন্য 2 হচ্ছে integer । \n",
    "\n",
    "দুটোর সাথে + অপারটর দিলে পাইথন বুঝতে পারে না যে ২ ংখ্যার সাথে যোগ করবে নাকি, নাকি '2' স্টিং এর সাথে জোড়া(concatenation) লাগাবে। \n"
   ]
  },
  {
   "cell_type": "code",
   "execution_count": 11,
   "metadata": {},
   "outputs": [
    {
     "ename": "TypeError",
     "evalue": "must be str, not int",
     "output_type": "error",
     "traceback": [
      "\u001b[1;31m---------------------------------------------------------------------------\u001b[0m",
      "\u001b[1;31mTypeError\u001b[0m                                 Traceback (most recent call last)",
      "\u001b[1;32m<ipython-input-11-12c66375956e>\u001b[0m in \u001b[0;36m<module>\u001b[1;34m()\u001b[0m\n\u001b[1;32m----> 1\u001b[1;33m \u001b[0ms\u001b[0m \u001b[1;33m=\u001b[0m \u001b[1;34m'2'\u001b[0m \u001b[1;33m+\u001b[0m \u001b[1;36m2\u001b[0m\u001b[1;33m\u001b[0m\u001b[0m\n\u001b[0m",
      "\u001b[1;31mTypeError\u001b[0m: must be str, not int"
     ]
    }
   ],
   "source": [
    "s = '2' + 2"
   ]
  },
  {
   "cell_type": "markdown",
   "metadata": {},
   "source": [
    "<hr>\n",
    "আবার কোন ফাইল যদি ঠিক ফোল্ডারে না থাকে, তাহলে তা ওপেন করার সময় FileNotFoundError exception তৈরি হয়। \n",
    "\n",
    "আমাদের প্রোগ্রামের সোর্স কোড যে ফোল্ডারে রান হচ্ছে শেখানে কোন input.txt নামে ফাইল নেই। "
   ]
  },
  {
   "cell_type": "code",
   "execution_count": 26,
   "metadata": {
    "scrolled": true
   },
   "outputs": [
    {
     "ename": "FileNotFoundError",
     "evalue": "[Errno 2] No such file or directory: 'input.txt'",
     "output_type": "error",
     "traceback": [
      "\u001b[1;31m---------------------------------------------------------------------------\u001b[0m",
      "\u001b[1;31mFileNotFoundError\u001b[0m                         Traceback (most recent call last)",
      "\u001b[1;32m<ipython-input-26-236bdd100abf>\u001b[0m in \u001b[0;36m<module>\u001b[1;34m()\u001b[0m\n\u001b[1;32m----> 1\u001b[1;33m \u001b[0mf\u001b[0m \u001b[1;33m=\u001b[0m \u001b[0mopen\u001b[0m\u001b[1;33m(\u001b[0m\u001b[1;34m'input.txt'\u001b[0m\u001b[1;33m,\u001b[0m \u001b[1;34m'r'\u001b[0m\u001b[1;33m)\u001b[0m\u001b[1;33m\u001b[0m\u001b[0m\n\u001b[0m",
      "\u001b[1;31mFileNotFoundError\u001b[0m: [Errno 2] No such file or directory: 'input.txt'"
     ]
    }
   ],
   "source": [
    "f = open('input.txt', 'r')"
   ]
  },
  {
   "cell_type": "markdown",
   "metadata": {},
   "source": [
    "\n",
    "## Exceptions বুঝে ব্যবস্থা নেয়া  (Exception Handeling)\n",
    " \n",
    "   \n",
    "যেহেতু Exception তৈরি হলে program সেখানেই থেমে যাবে, তাই সেই অংশে আমাদের ব্যবস্থা নিতে হবে যেন অপ্র্যাশিত কোন Exception এর জন্য সমগ্র ্রোগ্রাম মাঝে পথে থেমে না যায়।\n",
    "\n",
    "এই কাজের জন্য আমারা আমাদের <b>কোড কে  try ব্লকের মধ্যে রাখব  </b>\n",
    " \n",
    "যদি <i> কোন exception তৈরি হয়, তাহলে except ব্লকের মধ্যকার মেসেজ ইউজারকে দেখাবে। </i> "
   ]
  },
  {
   "cell_type": "code",
   "execution_count": 15,
   "metadata": {
    "scrolled": false
   },
   "outputs": [
    {
     "name": "stdout",
     "output_type": "stream",
     "text": [
      "Sorry... divide by 0 is not valid operation\n"
     ]
    }
   ],
   "source": [
    "try:\n",
    "    c = 1/0\n",
    "except ZeroDivisionError:\n",
    "    print ('Sorry... divide by 0 is not valid operation')"
   ]
  },
  {
   "cell_type": "markdown",
   "metadata": {},
   "source": [
    "খেয়াল কর, try ব্লকে শুন্য দিয়ে ভাগ করার চষ্টা  হয়েছে, তবে except ব্লকের মধ্যকার মেসেজ প্রিন্ট হয়েছে।\n",
    "\n",
    "অথচ,আগে try ব্লক ছাড়া যখন শুন্য দিয়ে ভাগ করেছিলাম, একটা বিদ্ঘুটে error মেসেজ দেখিয়েছিল। \n",
    "\n",
    "<img src='img/zero_div_error.PNG' align='left'>"
   ]
  },
  {
   "cell_type": "markdown",
   "metadata": {},
   "source": [
    "সেই বিদঘুটে error মেসেজের শেষ লাইনে বলা  ছিল  এটা কোন ধরণের error  (ZeroDivisionError)\n",
    "\n",
    "except ব্লকের মধ্যে \n"
   ]
  },
  {
   "cell_type": "code",
   "execution_count": 21,
   "metadata": {},
   "outputs": [
    {
     "name": "stdout",
     "output_type": "stream",
     "text": [
      "You should declare first before use it\n"
     ]
    }
   ],
   "source": [
    "try:\n",
    "    a = pi * 2 \n",
    "except NameError:\n",
    "    print ('You should declare first before use it')"
   ]
  },
  {
   "cell_type": "code",
   "execution_count": 32,
   "metadata": {
    "scrolled": true
   },
   "outputs": [
    {
     "name": "stdout",
     "output_type": "stream",
     "text": [
      "Please, use same data type\n"
     ]
    }
   ],
   "source": [
    "try:\n",
    "    s = '2' + 2\n",
    "except TypeError:\n",
    "    print ('Please, use same data type')"
   ]
  },
  {
   "cell_type": "markdown",
   "metadata": {},
   "source": []
  },
  {
   "cell_type": "markdown",
   "metadata": {},
   "source": [
    "## try, except ব্লক কিভাবে কাজ করে?\n",
    "\n",
    "যদি সব ঠিক ভাবে চলে, কোন Exception তৈরি না হয়, তাহলে অবশ্য try এর কোডের কোন  বিশষত্ব চোখে পড়বে না। try না থাকা সাধারণ কোডের মতই দিব্যি চলবে।\n",
    "\n",
    "কিন্তু যদি  try ব্লকের কোডে কোন exception  তৈরি হয়, তাহলে সেটা try ব্লকের কেবলই নিচে except ব্লকের মধ্যে চলে যাবে। শেখানে যদি কোন কিছু বলা থাকে সেটা সম্পন্ন করে ব্লকের বাইরে চলে যাবে, এবং তার নিচের কোড থেকে রান করতে শুরু করবে।\n",
    "\n",
    "<img src='img/try_except_py.png' height='405' width='484' align='left' >\n"
   ]
  },
  {
   "cell_type": "markdown",
   "metadata": {},
   "source": [
    "<ul>\n",
    "<li> প্রথমে try ব্লকের মধ্যে প্রবেশ করে। </li>\n",
    "\n",
    "<li> সেখানের সব কোড লাইন বাই লাইন রান করে।   </li>\n",
    "\n",
    "<li> যদি কোন error পায়, তাহলে except ব্লকের মধ্যে প্রবেশ করে।   </li>\n",
    "\n",
    "</ul>\n",
    "\n",
    "<img src = 'img/exception_make_ok.png'  align='left'>\n",
    "\n",
    "\n",
    "লখ্যনীয় হল, যদি exception তৈরি হয়, তবুও except ব্লকের নিচে যাআছে শেখান থেকে শুরু হয়। error এর জন্য ্রোগ্রাম থেকে যায় না।\n",
    "\n"
   ]
  },
  {
   "cell_type": "markdown",
   "metadata": {},
   "source": [
    "কিন্তু একই রোগ্রামটা যদি আমারা try-except ব্লক ব্যাবহার না করে করতাম তাহলে c = 1/0 এই  লাইনে এসে exception তৈরির কারনে সমগ্র ্রোগ্রাম ্রাস করত। নিচের কোন লাইন আর রান হত না। ওখানেই সব থেমে যেত।  \n",
    "\n",
    "<img src = 'img/exception_not_ok.png'  align='left'>"
   ]
  },
  {
   "cell_type": "code",
   "execution_count": null,
   "metadata": {
    "collapsed": true
   },
   "outputs": [],
   "source": [
    " "
   ]
  },
  {
   "cell_type": "markdown",
   "metadata": {},
   "source": [
    "  "
   ]
  },
  {
   "cell_type": "markdown",
   "metadata": {},
   "source": [
    "## Excepton কিভাবে তৈরি করতে হয় ?\n",
    "\n",
    "এতক্ষন আমারা যত গুলো exception দেখেছি, সেগুলোর error মেসেজে সব সময় শেষের লাইনে exception এর ধরন বলা ছিল। \n",
    "পাইথন এটা বলতে পারে কারন তার লাইব্রেরীতে এই সম্পর্কে তথ্য দেয়া আছে। \n",
    "\n",
    "অর্থাৎ,\n",
    "কোন ধরনের এরকর সেটা যদি পাইথনের কাছে জানা থাকে, \n",
    "তাহলে এরকর মেসেরের নাম বলে। তবে অনেক সময় \n",
    "প্রগ্রামার নিজে কাজেরর সুবিধার জন্য নতুন ধরনের এরকর \n",
    "এর উৎস তৈরি করে তার নাম্ব দিতে পারে। \n",
    "\n",
    "যেমন ধর, প্রগ্রামার একটা এলার্ম ক্লক বানাতে চায়। \n",
    "ইউজার একটা সংখ্যা (১,২,৩...)  বলে দিবে, কম্পিউটারের \n",
    "তত ঘন্টা পর এলার্ম দিবে। \n",
    "এখন ধরা যাক, কেউ ইনপুট যদি দেয়,\n",
    "c = -3 \n",
    "\n",
    "কম্পিউটারের কাছে c এর মানে -৩ হতেই পারে,\n",
    "কিন্তু বাস্তবে সময় ঋণাত্মক হতে পারে না। তাই প্রগ্রামারকে \n",
    "একটা নতুন এরকর টাইপ তৈরি করতে হবে। \n",
    "এর নাম দেয়া যাক, NegetiveTimeError\n",
    "\n",
    "---------\n",
    "\n",
    "\n",
    "\n",
    "\n"
   ]
  },
  {
   "cell_type": "code",
   "execution_count": 9,
   "metadata": {},
   "outputs": [
    {
     "ename": "NegetiveTimeError",
     "evalue": "Time cannot be negetive",
     "output_type": "error",
     "traceback": [
      "\u001b[1;31m---------------------------------------------------------------------------\u001b[0m",
      "\u001b[1;31mNegetiveTimeError\u001b[0m                         Traceback (most recent call last)",
      "\u001b[1;32m<ipython-input-9-3f599ddf4a9a>\u001b[0m in \u001b[0;36m<module>\u001b[1;34m()\u001b[0m\n\u001b[0;32m      8\u001b[0m \u001b[1;33m\u001b[0m\u001b[0m\n\u001b[0;32m      9\u001b[0m \u001b[1;32mif\u001b[0m \u001b[0mc\u001b[0m\u001b[1;33m<\u001b[0m\u001b[1;36m0\u001b[0m\u001b[1;33m:\u001b[0m\u001b[1;33m\u001b[0m\u001b[0m\n\u001b[1;32m---> 10\u001b[1;33m     \u001b[1;32mraise\u001b[0m \u001b[0mNegetiveTimeError\u001b[0m\u001b[1;33m(\u001b[0m\u001b[1;34m'Time cannot be negetive'\u001b[0m\u001b[1;33m)\u001b[0m\u001b[1;33m\u001b[0m\u001b[0m\n\u001b[0m\u001b[0;32m     11\u001b[0m \u001b[1;33m\u001b[0m\u001b[0m\n\u001b[0;32m     12\u001b[0m \u001b[0mprint\u001b[0m \u001b[1;33m(\u001b[0m\u001b[1;34m'Remaining time: '\u001b[0m\u001b[1;33m,\u001b[0m  \u001b[0mc\u001b[0m\u001b[1;33m)\u001b[0m\u001b[1;33m\u001b[0m\u001b[0m\n",
      "\u001b[1;31mNegetiveTimeError\u001b[0m: Time cannot be negetive"
     ]
    }
   ],
   "source": [
    "## first define our exception class\n",
    "class NegetiveTimeError(Exception):\n",
    "    pass\n",
    "# __________________________________________\n",
    "\n",
    "\n",
    "c = -3\n",
    "\n",
    "if c<0:\n",
    "    raise NegetiveTimeError('Time cannot be negetive')\n",
    "\n",
    "print ('Remaining time: ',  c)\n",
    "# do remaining process\n"
   ]
  },
  {
   "cell_type": "markdown",
   "metadata": {},
   "source": [
    "## একাধিক exception handaling\n",
    "\n",
    "কখনও কখনও আমাদের try ব্লকের মধ্যে একাধিক  exception তৈরি হতে পারে। তার জন্য সম্ভবাব্য exception এর প্রকারভেদ গুলো except এ পর্জায় ক্রমে দেয়া। \n",
    "\n",
    "যদি কোন অজানা কিছু হতে পারে বলে মনে হয়, তাহলে সবার শেষে শুধু except ব্যাবহার করা যায়।   "
   ]
  },
  {
   "cell_type": "code",
   "execution_count": 41,
   "metadata": {},
   "outputs": [
    {
     "name": "stdout",
     "output_type": "stream",
     "text": [
      "Please check your file location...\n"
     ]
    }
   ],
   "source": [
    "\n",
    "try:\n",
    "    f = open('sdf.txt', 'r')  # produce FileNotFoundError \n",
    "    \n",
    "    c = 1 / 0 # produce ZeroDivisionError\n",
    "    \n",
    "    raise Exception('Custom Error') #produce custom exception\n",
    "\n",
    "except ZeroDivisionError:\n",
    "    print ('Zero division is very bad...')\n",
    "except FileNotFoundError: \n",
    "    print ('Please check your file location...')\n",
    "except:\n",
    "    print ('Unknown Error...')\n"
   ]
  }
 ],
 "metadata": {
  "kernelspec": {
   "display_name": "Python 3",
   "language": "python",
   "name": "python3"
  },
  "language_info": {
   "codemirror_mode": {
    "name": "ipython",
    "version": 3
   },
   "file_extension": ".py",
   "mimetype": "text/x-python",
   "name": "python",
   "nbconvert_exporter": "python",
   "pygments_lexer": "ipython3",
   "version": "3.6.2"
  }
 },
 "nbformat": 4,
 "nbformat_minor": 1
}
