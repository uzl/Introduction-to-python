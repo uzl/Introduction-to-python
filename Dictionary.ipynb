{
 "cells": [
  {
   "cell_type": "markdown",
   "metadata": {},
   "source": [
    "Course Name: Introduction to Python\n",
    "by Uzzal Podder\n",
    "\n",
    "# Dictionary"
   ]
  },
  {
   "cell_type": "markdown",
   "metadata": {},
   "source": [
    "###  Basic of python dictionary\n",
    "\n",
    "A dictionary works with keys and values instead of indexes. Each value stored in a dictionary can be accessed using a key.\n",
    "<img src=\"img/KeyValue.PNG\">"
   ]
  },
  {
   "cell_type": "code",
   "execution_count": 19,
   "metadata": {
    "collapsed": false
   },
   "outputs": [
    {
     "name": "stdout",
     "output_type": "stream",
     "text": [
      "{'raju': '0171000000', 'barun': '0161000000', 'sajib': '0150000000'}\n"
     ]
    }
   ],
   "source": [
    "phonebook = {}\n",
    "phonebook[\"raju\"] = '0171000000'\n",
    "phonebook[\"barun\"] = '0161000000'\n",
    "phonebook[\"sajib\"] = '0150000000'\n",
    "print(phonebook)"
   ]
  },
  {
   "cell_type": "markdown",
   "metadata": {},
   "source": [
    "Looking up or setting a value in a dict uses square brackets. Strings, numbers, and tuples work as keys. but value can be any type.\n"
   ]
  },
  {
   "cell_type": "code",
   "execution_count": 26,
   "metadata": {
    "collapsed": false
   },
   "outputs": [
    {
     "name": "stdout",
     "output_type": "stream",
     "text": [
      "0181000000\n"
     ]
    }
   ],
   "source": [
    "phonebook[\"piya\"] = '0181000000' ## insert/add new element\n",
    "\n",
    "n = phonebook[\"piya\"]  ## get the phone number for piya name\n",
    "print (n)\n"
   ]
  },
  {
   "cell_type": "markdown",
   "metadata": {},
   "source": [
    ". Looking up a value which is not in the dict throws a KeyError "
   ]
  },
  {
   "cell_type": "code",
   "execution_count": 5,
   "metadata": {
    "collapsed": false
   },
   "outputs": [
    {
     "ename": "KeyError",
     "evalue": "'anamika'",
     "output_type": "error",
     "traceback": [
      "\u001b[1;31m---------------------------------------------------------------------------\u001b[0m",
      "\u001b[1;31mKeyError\u001b[0m                                  Traceback (most recent call last)",
      "\u001b[1;32m<ipython-input-5-6023fba13dee>\u001b[0m in \u001b[0;36m<module>\u001b[1;34m()\u001b[0m\n\u001b[1;32m----> 1\u001b[1;33m \u001b[0mn\u001b[0m \u001b[1;33m=\u001b[0m \u001b[0mphonebook\u001b[0m\u001b[1;33m[\u001b[0m\u001b[1;34m\"anamika\"\u001b[0m\u001b[1;33m]\u001b[0m\u001b[1;33m\u001b[0m\u001b[0m\n\u001b[0m\u001b[0;32m      2\u001b[0m \u001b[0mprint\u001b[0m \u001b[1;33m(\u001b[0m\u001b[0mn\u001b[0m\u001b[1;33m)\u001b[0m\u001b[1;33m\u001b[0m\u001b[0m\n",
      "\u001b[1;31mKeyError\u001b[0m: 'anamika'"
     ]
    }
   ],
   "source": [
    "n = phonebook[\"anamika\"]\n",
    "print (n)"
   ]
  },
  {
   "cell_type": "markdown",
   "metadata": {},
   "source": [
    " The methods dict.keys() and dict.values() return lists of the keys or values explicitly"
   ]
  },
  {
   "cell_type": "markdown",
   "metadata": {},
   "source": [
    " "
   ]
  },
  {
   "cell_type": "markdown",
   "metadata": {},
   "source": [
    "### Iterating over dictionaries\n",
    "\n",
    "Dictionaries can be iterated over. \n",
    "A for loop on a dictionary iterates over its keys by default. "
   ]
  },
  {
   "cell_type": "code",
   "execution_count": 10,
   "metadata": {
    "collapsed": false
   },
   "outputs": [
    {
     "name": "stdout",
     "output_type": "stream",
     "text": [
      "raju 0171000000\n",
      "barun 0161000000\n",
      "sajib 0150000000\n",
      "piya 0181000000\n"
     ]
    }
   ],
   "source": [
    "for name in phonebook:\n",
    "    print (name, phonebook[name] )"
   ]
  },
  {
   "cell_type": "markdown",
   "metadata": {},
   "source": [
    "A for loop on a dictionary iterates over its keys by default. There's also an items() which returns a list of (key, value) tuples,"
   ]
  },
  {
   "cell_type": "code",
   "execution_count": 11,
   "metadata": {
    "collapsed": false
   },
   "outputs": [
    {
     "name": "stdout",
     "output_type": "stream",
     "text": [
      "raju 0171000000\n",
      "barun 0161000000\n",
      "sajib 0150000000\n",
      "piya 0181000000\n"
     ]
    }
   ],
   "source": [
    "for name, number in phonebook.items():\n",
    "    print (name, number)\n",
    "    "
   ]
  },
  {
   "cell_type": "markdown",
   "metadata": {},
   "source": [
    "The keys will appear in an arbitrary order. The methods dict.keys() and dict.values() return lists of the keys or values explicitly. but items() is the dict expressed as (key, value) tuples"
   ]
  },
  {
   "cell_type": "code",
   "execution_count": 22,
   "metadata": {
    "collapsed": false
   },
   "outputs": [
    {
     "name": "stdout",
     "output_type": "stream",
     "text": [
      "dict_keys(['raju', 'barun', 'sajib'])\n",
      "dict_values(['0171000000', '0161000000', '0150000000'])\n",
      "dict_items([('raju', '0171000000'), ('barun', '0161000000'), ('sajib', '0150000000')])\n"
     ]
    }
   ],
   "source": [
    "print (phonebook.keys() )\n",
    "print (phonebook.values() )\n",
    "print (phonebook.items() )"
   ]
  },
  {
   "cell_type": "markdown",
   "metadata": {},
   "source": [
    "All of these lists can be passed to the sorted() function."
   ]
  },
  {
   "cell_type": "code",
   "execution_count": 21,
   "metadata": {
    "collapsed": false
   },
   "outputs": [
    {
     "name": "stdout",
     "output_type": "stream",
     "text": [
      "barun 0161000000\n",
      "raju 0171000000\n",
      "sajib 0150000000\n"
     ]
    }
   ],
   "source": [
    "for name in sorted(phonebook.keys()):\n",
    "    print (name, phonebook[name] )"
   ]
  },
  {
   "cell_type": "markdown",
   "metadata": {},
   "source": [
    "### Check if exists\n",
    "\n",
    "If you want to check if an element is in dictionary, you can use <b> in </b> construct .\n",
    "if the value is in the dictionary, it returns True. If not, then returns False.\n",
    "<b> This search is very faster than searching in list </b>"
   ]
  },
  {
   "cell_type": "code",
   "execution_count": 28,
   "metadata": {
    "collapsed": false
   },
   "outputs": [
    {
     "name": "stdout",
     "output_type": "stream",
     "text": [
      "calling piya...\n"
     ]
    }
   ],
   "source": [
    "if 'piya' in phonebook:\n",
    "    print ('calling piya...')\n",
    "else:\n",
    "    print ('not in your phonebook')"
   ]
  },
  {
   "cell_type": "markdown",
   "metadata": {},
   "source": [
    "### Removing a value\n",
    "\n",
    "To remove a specified item from dictionary, use <b>del</b> "
   ]
  },
  {
   "cell_type": "code",
   "execution_count": 18,
   "metadata": {
    "collapsed": false,
    "scrolled": false
   },
   "outputs": [
    {
     "name": "stdout",
     "output_type": "stream",
     "text": [
      "{'raju': '0171000000', 'barun': '0161000000'}\n",
      "{'barun': '0161000000'}\n"
     ]
    }
   ],
   "source": [
    "phonebook = {\n",
    "    \"raju\" : '0171000000',\n",
    "    \"barun\" : '0161000000' }\n",
    "\n",
    "print (phonebook)\n",
    "\n",
    "del phonebook[\"raju\"]\n",
    "print(phonebook)"
   ]
  },
  {
   "cell_type": "markdown",
   "metadata": {},
   "source": [
    " "
   ]
  },
  {
   "cell_type": "markdown",
   "metadata": {},
   "source": [
    " "
   ]
  },
  {
   "cell_type": "markdown",
   "metadata": {},
   "source": [
    "#### Reference \n",
    "\n",
    "https://www.learnpython.org/en/Lists\n",
    "\n",
    "https://developers.google.com/edu/python/lists"
   ]
  }
 ],
 "metadata": {
  "kernelspec": {
   "display_name": "Python [conda env:pygpu]",
   "language": "python",
   "name": "conda-env-pygpu-py"
  },
  "language_info": {
   "codemirror_mode": {
    "name": "ipython",
    "version": 3
   },
   "file_extension": ".py",
   "mimetype": "text/x-python",
   "name": "python",
   "nbconvert_exporter": "python",
   "pygments_lexer": "ipython3",
   "version": "3.6.2"
  }
 },
 "nbformat": 4,
 "nbformat_minor": 2
}
