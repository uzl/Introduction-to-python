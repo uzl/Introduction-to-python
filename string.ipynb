{
 "cells": [
  {
   "cell_type": "markdown",
   "metadata": {
    "collapsed": true
   },
   "source": [
    "# String\n",
    "\n",
    "<p style=\"text-align:right;\"> Course Name: Introduction To Python <br/>  <i>by Uzzal Podder</i>  </p>\n"
   ]
  },
  {
   "cell_type": "markdown",
   "metadata": {},
   "source": [
    "কোটেসনের মধ্যে কিছু থাকলে সেটা string. \n",
    "double বা single quotes এর যে কোন একটা হলেই চলে। তবে single quotes এর ব্যাবহার বেশি হয় পাইথনে।\n"
   ]
  },
  {
   "cell_type": "code",
   "execution_count": 2,
   "metadata": {},
   "outputs": [
    {
     "name": "stdout",
     "output_type": "stream",
     "text": [
      "My name is Raju\n",
      "My name is Dipa\n"
     ]
    }
   ],
   "source": [
    "name1 = 'My name is Raju'  # single quotes\n",
    "name2 = \"My name is Dipa\"  # double quotes\n",
    "\n",
    "print (name1)\n",
    "print(name2)"
   ]
  },
  {
   "cell_type": "markdown",
   "metadata": {},
   "source": [
    "যদি সংখ্যাও quotes এর ভেতর থাকে, সেটাও string হবে। "
   ]
  },
  {
   "cell_type": "code",
   "execution_count": 4,
   "metadata": {},
   "outputs": [
    {
     "name": "stdout",
     "output_type": "stream",
     "text": [
      "123123123\n",
      "<class 'str'>\n"
     ]
    }
   ],
   "source": [
    "phone = '123123123' \n",
    "\n",
    "print (phone)\n",
    "print (type(phone))"
   ]
  },
  {
   "cell_type": "markdown",
   "metadata": {},
   "source": [
    "<hr>\n",
    " double quotes দিয়ে আবদ্ধ string ভেতর single quotes ব্যাবহার করা যায়। আবার  single quotes দিয়ে আবদ্ধ string ভেতর single double ব্যাবহার করা যায়।"
   ]
  },
  {
   "cell_type": "code",
   "execution_count": 7,
   "metadata": {
    "collapsed": true
   },
   "outputs": [],
   "source": [
    "news1 = \"I don't like dhaka for it's traffic jam\"\n",
    "news2 = 'But, he said \"I love dhaka\"'\n"
   ]
  },
  {
   "cell_type": "markdown",
   "metadata": {},
   "source": [
    "তবে যদি দরকার হয়েই পড়ে যে  single quotes এর ভেতর single quotes ব্যবহার করার, বা  double quotes এর ভেতর double quotes ব্যবহার করার তাহলে ব্যাক স্লাস (\\) ব্যবহার করা যায় "
   ]
  },
  {
   "cell_type": "code",
   "execution_count": 14,
   "metadata": {
    "collapsed": true
   },
   "outputs": [],
   "source": [
    "s1 = ' single quote symble is \\' '\n",
    "s2 = \" double quote symble is \\\" \""
   ]
  },
  {
   "cell_type": "markdown",
   "metadata": {},
   "source": [
    "<hr>\n",
    "string এ একাধিক লাইনে লেখা যেতে পারে। তবে প্রতি লাইনের শেষে ব্যাক স্লাস (\\)  দিতে হয়। \n",
    "এখানে উল্লখ করা প্রয়োজন যে এই ভাবে string লিখলেও সেটাকে এক লাইনের string  ধরা হয়, শুধু দেখার সুবিধার জন্য ব্যাক স্লাস দিয়ে ভেঙ্গে দেয়া হয়। "
   ]
  },
  {
   "cell_type": "code",
   "execution_count": 19,
   "metadata": {
    "collapsed": true
   },
   "outputs": [],
   "source": [
    "s1 = 'one upon a time \\\n",
    "    There was a king. \\\n",
    "    He was very interested in Python Programming'"
   ]
  },
  {
   "cell_type": "markdown",
   "metadata": {},
   "source": [
    "তবে সত্যই যদি অনেক লাইনের string  (multi line string ) লাগে তাহলে তিনটা কোটেসনের মধ্যে রাখলেই হবে। যেহেতু এখানে একাধিক লাইন থাকতে পারে, তাই নিউ লাইন এবং স্পেস এর ব্যাপারে সতর্ক হতে হবে। "
   ]
  },
  {
   "cell_type": "code",
   "execution_count": 21,
   "metadata": {
    "collapsed": true
   },
   "outputs": [],
   "source": [
    "s2 = \"\"\" Once upon a time.\n",
    "There was a king.\n",
    "He was very interested in Python Programmin.\"\"\"\n",
    "\n",
    "s3 = ''' King went to Dhaka. \n",
    "then contact with MASLab. '''"
   ]
  },
  {
   "cell_type": "markdown",
   "metadata": {},
   "source": [
    " "
   ]
  },
  {
   "cell_type": "markdown",
   "metadata": {},
   "source": [
    "পাইথনের string এর একটা মজার বৈশিষ্ট্য হচ্ছে এটা একবার তুমি তৈরি করলে সেটার মধ্যে কিছু পরিবর্তন করতে পারবে না। \n",
    "\n",
    "এখানে বলা প্রয়োজন যে ‘পরিবর্তন’ বলতে string  এর মধ্যে কোণ কিছু। কিন্তু চাইলে নতুন কোন string  ওই একই ভেরিয়েবলে রাখা যাবে। "
   ]
  },
  {
   "cell_type": "code",
   "execution_count": 26,
   "metadata": {
    "scrolled": false
   },
   "outputs": [
    {
     "name": "stdout",
     "output_type": "stream",
     "text": [
      "abcdefg\n",
      "ABCDEFG\n",
      "ABCDEFG\n"
     ]
    }
   ],
   "source": [
    "alpha = 'abcdefg'\n",
    "\n",
    "alpha.upper()\n",
    "print (alpha)\n",
    "\n",
    "new_alpha = alpha.upper()\n",
    "print (new_alpha)\n",
    "\n",
    "alpha = alpha.upper()\n",
    "print (alpha)"
   ]
  },
  {
   "cell_type": "markdown",
   "metadata": {},
   "source": [
    "দুটো string কে এক করে জোড়া লাগানো যায়। এটাকে বলা হয় string   concatenation"
   ]
  },
  {
   "cell_type": "code",
   "execution_count": 30,
   "metadata": {
    "scrolled": false
   },
   "outputs": [
    {
     "name": "stdout",
     "output_type": "stream",
     "text": [
      "hello hi  Rubel\n"
     ]
    }
   ],
   "source": [
    "s = 'hello'+\" hi \"+ ' Rubel'\n",
    "print (s)\n"
   ]
  },
  {
   "cell_type": "markdown",
   "metadata": {},
   "source": [
    "তবে সতর্ক থাকতে হবে যখন কোণ string এর সাথে সংখ্যা concatenation করা লাগবে। এ জন্য প্রথমে আমাদের number কে string  করে নিতে হবে। str() এর মধ্যে কোন সংখ্যা লিখলে সেটা string হয়। "
   ]
  },
  {
   "cell_type": "code",
   "execution_count": 35,
   "metadata": {
    "collapsed": true,
    "scrolled": true
   },
   "outputs": [],
   "source": [
    "pi = 3.1416\n",
    "text1 = 'value of pi is ' + str(pi)    # right \n",
    "text2 = 'value of pi is ' + pi         # error "
   ]
  },
  {
   "cell_type": "markdown",
   "metadata": {},
   "source": [
    "প্রায়ই আমাদের জানার দরকার হয় একটা string  কত বড়, (আরো স্পস্ট করে বললে string  এ কত গুলো character আছে)। এটা জানার জন্য আমারা len() ফাংসন ব্যবহার করতে পারি। "
   ]
  },
  {
   "cell_type": "code",
   "execution_count": 38,
   "metadata": {},
   "outputs": [
    {
     "name": "stdout",
     "output_type": "stream",
     "text": [
      "3\n",
      "10\n"
     ]
    }
   ],
   "source": [
    "a = 'abc'\n",
    "x = len(a)\n",
    "print (x)\n",
    "\n",
    "print(len('Bangladesh'))"
   ]
  },
  {
   "cell_type": "markdown",
   "metadata": {},
   "source": [
    "## String Methods"
   ]
  },
  {
   "cell_type": "markdown",
   "metadata": {},
   "source": [
    " "
   ]
  },
  {
   "cell_type": "markdown",
   "metadata": {
    "scrolled": true
   },
   "source": [
    " "
   ]
  },
  {
   "cell_type": "markdown",
   "metadata": {},
   "source": [
    "  "
   ]
  },
  {
   "cell_type": "code",
   "execution_count": null,
   "metadata": {
    "collapsed": true
   },
   "outputs": [],
   "source": [
    "astring = \"Hello world!\"\n",
    "print(astring.index(\"o\"))\n",
    "\n",
    "\n",
    "astring = \"Hello world!\"\n",
    "print(astring.count(\"l\"))\n",
    "\n",
    "\n",
    "astring = \"Hello world!\"\n",
    "print(astring[3:7])\n",
    "\n",
    "astring = \"Hello world!\"\n",
    "print(astring[3:7:2])\n",
    "\n",
    "\n",
    "astring = \"Hello world!\"\n",
    "print(astring[3:7])\n",
    "print(astring[3:7:1])\n",
    "\n",
    "\n",
    "astring = \"Hello world!\"\n",
    "print(astring.upper())\n",
    "print(astring.lower())\n",
    "\n",
    "\n",
    "astring = \"Hello world!\"\n",
    "print(astring.startswith(\"Hello\"))\n",
    "print(astring.endswith(\"asdfasdfasdf\"))\n",
    "\n",
    "astring = \"Hello world!\"\n",
    "afewwords = astring.split(\" \")\n"
   ]
  },
  {
   "cell_type": "markdown",
   "metadata": {},
   "source": [
    " "
   ]
  },
  {
   "cell_type": "markdown",
   "metadata": {
    "collapsed": true
   },
   "source": [
    " "
   ]
  },
  {
   "cell_type": "markdown",
   "metadata": {},
   "source": [
    " "
   ]
  },
  {
   "cell_type": "markdown",
   "metadata": {
    "collapsed": true
   },
   "source": []
  },
  {
   "cell_type": "markdown",
   "metadata": {},
   "source": [
    " "
   ]
  },
  {
   "cell_type": "markdown",
   "metadata": {
    "collapsed": true
   },
   "source": []
  },
  {
   "cell_type": "markdown",
   "metadata": {},
   "source": [
    " "
   ]
  }
 ],
 "metadata": {
  "kernelspec": {
   "display_name": "Python 3",
   "language": "python",
   "name": "python3"
  },
  "language_info": {
   "codemirror_mode": {
    "name": "ipython",
    "version": 3
   },
   "file_extension": ".py",
   "mimetype": "text/x-python",
   "name": "python",
   "nbconvert_exporter": "python",
   "pygments_lexer": "ipython3",
   "version": "3.6.2"
  }
 },
 "nbformat": 4,
 "nbformat_minor": 2
}
